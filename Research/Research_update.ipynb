{
 "cells": [
  {
   "cell_type": "code",
   "execution_count": 1,
   "metadata": {},
   "outputs": [],
   "source": [
    "import numpy as np\n",
    "import skfuzzy as fuzz\n",
    "import matplotlib.pyplot as plt"
   ]
  },
  {
   "cell_type": "code",
   "execution_count": 71,
   "metadata": {},
   "outputs": [],
   "source": [
    "import numpy as np\n",
    "import skfuzzy as fuzz\n",
    "from skfuzzy import control as ctrl\n",
    "import pandas as pd\n",
    "from sklearn.model_selection import train_test_split\n",
    "from sklearn.cluster import KMeans\n",
    "\n",
    "df=pd.read_excel('SAT_GPA.xls')\n",
    "df=df[['SAT','univ_GPA']]\n",
    "\n",
    "X_train, X_test, y_train, y_test = train_test_split(\n",
    "df['SAT'], df['univ_GPA'], test_size=0.2)\n",
    "\n",
    "length=int(len(df['SAT'])*0.8)\n",
    "X_train=df['SAT'][:length]\n",
    "X_test=df['SAT'][length:]\n",
    "y_train=df['univ_GPA'][:length]\n",
    "y_test=df['univ_GPA'][length:]\n"
   ]
  },
  {
   "cell_type": "code",
   "execution_count": 72,
   "metadata": {},
   "outputs": [
    {
     "data": {
      "text/plain": [
       "array([[1131.84090909,    2.88909091],\n",
       "       [1325.475     ,    3.4855    ]])"
      ]
     },
     "execution_count": 72,
     "metadata": {},
     "output_type": "execute_result"
    }
   ],
   "source": [
    "kmeans = KMeans(n_clusters=2, random_state=0).fit(df.iloc[:length])\n",
    "kmeans.cluster_centers_ "
   ]
  },
  {
   "cell_type": "code",
   "execution_count": 73,
   "metadata": {},
   "outputs": [],
   "source": [
    "labels=kmeans.labels_"
   ]
  },
  {
   "cell_type": "code",
   "execution_count": 74,
   "metadata": {},
   "outputs": [
    {
     "data": {
      "image/png": "[encoded data removed]",
      "text/plain": [
       "<Figure size 432x288 with 1 Axes>"
      ]
     },
     "metadata": {
      "needs_background": "light"
     },
     "output_type": "display_data"
    }
   ],
   "source": [
    "cluster1=[]\n",
    "cluster1res=[]\n",
    "cluster2=[]\n",
    "cluster2res=[]\n",
    "for i in range(length):\n",
    "    if labels[i]==0:\n",
    "        plt.scatter(X_train[i],y_train[i],c='red')\n",
    "        cluster1.append(X_train[i])\n",
    "        cluster1res.append(y_train[i])\n",
    "    else:\n",
    "        plt.scatter(X_train[i],y_train[i],c='green')  \n",
    "        cluster2.append(X_train[i])\n",
    "        cluster2res.append(y_train[i])\n",
    "plt.xlabel('SAT')\n",
    "plt.ylabel('univ_GPA')\n",
    "plt.show()"
   ]
  },
  {
   "cell_type": "code",
   "execution_count": 99,
   "metadata": {},
   "outputs": [],
   "source": [
    "t1 = ctrl.Antecedent(np.arange(1231, 1372.72, 0.01), 't1')\n",
    "t2 = ctrl.Antecedent(np.arange(1325.48,1450,0.01), 't2')\n",
    "res1 = ctrl.Consequent(np.arange(3.01, 3.49, 0.01), 'res1')\n",
    "res2 = ctrl.Consequent(np.arange(3.33, 3.81, 0.01), 'res2')"
   ]
  },
  {
   "cell_type": "code",
   "execution_count": 100,
   "metadata": {},
   "outputs": [],
   "source": [
    "# Auto-membership function population is possible with .automf(3, 5, or 7)\n",
    "t1.automf(3)\n",
    "t2.automf(3)"
   ]
  },
  {
   "cell_type": "code",
   "execution_count": 101,
   "metadata": {},
   "outputs": [],
   "source": [
    "# Custom membership functions can be built interactively with a familiar,\n",
    "# Pythonic API\n",
    "res1['low'] = fuzz.trimf(res1.universe, [3.01, 3.01, 3.33])\n",
    "res1['medium'] = fuzz.trimf(res1.universe, [3.01, 3.33, 3.49])\n",
    "res1['high'] = fuzz.trimf(res1.universe, [3.33, 3.49, 3.49])"
   ]
  },
  {
   "cell_type": "code",
   "execution_count": 102,
   "metadata": {},
   "outputs": [],
   "source": [
    "res2['low'] = fuzz.trimf(res2.universe, [3.33, 3.33, 3.49])\n",
    "res2['medium'] = fuzz.trimf(res2.universe, [3.33, 3.49, 3.81])\n",
    "res2['high'] = fuzz.trimf(res2.universe, [3.49, 3.81, 3.81])"
   ]
  },
  {
   "cell_type": "code",
   "execution_count": 103,
   "metadata": {},
   "outputs": [],
   "source": [
    "rule1 = ctrl.Rule(t1['poor'] | t2['poor'], res1['low'])\n",
    "rule2 = ctrl.Rule(t1['average'] | t2['average'], res1['medium'])\n",
    "rule3 = ctrl.Rule(t1['good'] | t2['good'], res1['high'])\n",
    "\n",
    "rule4 = ctrl.Rule(t1['poor'] | t2['poor'], res2['low'])\n",
    "rule5 = ctrl.Rule(t1['average'] | t2['average'], res2['medium'])\n",
    "rule6 = ctrl.Rule(t1['good'] | t2['good'], res2['high'])"
   ]
  },
  {
   "cell_type": "code",
   "execution_count": 108,
   "metadata": {},
   "outputs": [
    {
     "name": "stdout",
     "output_type": "stream",
     "text": [
      "3.5902092937644277\n"
     ]
    }
   ],
   "source": [
    "res_ctrl = ctrl.ControlSystem([rule1, rule2, rule3,rule4, rule5, rule6])\n",
    "\n",
    "res = ctrl.ControlSystemSimulation(res_ctrl)\n",
    "\n",
    "res.input['t1'] = 1375\n",
    "res.input['t2'] = 1375\n",
    "\n",
    "# Crunch the numbers\n",
    "res.compute()\n",
    "\n",
    "\n",
    "\n",
    "#print(res.output['res1'])\n",
    "print(res.output['res2'])\n",
    "#print((res.output['res2']+res.output['res1'])/2)"
   ]
  },
  {
   "cell_type": "code",
   "execution_count": 92,
   "metadata": {},
   "outputs": [
    {
     "data": {
      "text/plain": [
       "84     1354\n",
       "85     1291\n",
       "86     1279\n",
       "87     1178\n",
       "88     1194\n",
       "89     1164\n",
       "90     1034\n",
       "91     1202\n",
       "92     1208\n",
       "93     1169\n",
       "94     1242\n",
       "95     1374\n",
       "96     1113\n",
       "97     1334\n",
       "98     1105\n",
       "99     1109\n",
       "100    1195\n",
       "101    1375\n",
       "102    1372\n",
       "103    1120\n",
       "104    1044\n",
       "Name: SAT, dtype: int64"
      ]
     },
     "execution_count": 92,
     "metadata": {},
     "output_type": "execute_result"
    }
   ],
   "source": [
    "X_test"
   ]
  },
  {
   "cell_type": "code",
   "execution_count": 93,
   "metadata": {},
   "outputs": [
    {
     "data": {
      "text/plain": [
       "84     3.34\n",
       "85     3.48\n",
       "86     3.44\n",
       "87     3.59\n",
       "88     3.28\n",
       "89     3.00\n",
       "90     3.42\n",
       "91     3.41\n",
       "92     3.49\n",
       "93     3.28\n",
       "94     3.17\n",
       "95     3.24\n",
       "96     2.34\n",
       "97     3.28\n",
       "98     2.29\n",
       "99     2.08\n",
       "100    3.64\n",
       "101    3.42\n",
       "102    3.25\n",
       "103    2.76\n",
       "104    3.41\n",
       "Name: univ_GPA, dtype: float64"
      ]
     },
     "execution_count": 93,
     "metadata": {},
     "output_type": "execute_result"
    }
   ],
   "source": [
    "y_test"
   ]
  },
  {
   "cell_type": "code",
   "execution_count": null,
   "metadata": {},
   "outputs": [],
   "source": []
  }
 ],
 "metadata": {
  "kernelspec": {
   "display_name": "Python 3",
   "language": "python",
   "name": "python3"
  },
  "language_info": {
   "codemirror_mode": {
    "name": "ipython",
    "version": 3
   },
   "file_extension": ".py",
   "mimetype": "text/x-python",
   "name": "python",
   "nbconvert_exporter": "python",
   "pygments_lexer": "ipython3",
   "version": "3.6.6"
  }
 },
 "nbformat": 4,
 "nbformat_minor": 2
}
