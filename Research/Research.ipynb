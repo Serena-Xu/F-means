{
 "cells": [
  {
   "cell_type": "code",
   "execution_count": 204,
   "metadata": {},
   "outputs": [],
   "source": [
    "import pandas as pd\n",
    "import numpy as np\n",
    "import matplotlib.pyplot as plt\n",
    "from sklearn.cluster import KMeans\n",
    "import skfuzzy as fuzz"
   ]
  },
  {
   "cell_type": "code",
   "execution_count": 205,
   "metadata": {},
   "outputs": [],
   "source": [
    "df1=pd.read_excel('SAT_GPA.xls')"
   ]
  },
  {
   "cell_type": "code",
   "execution_count": 206,
   "metadata": {},
   "outputs": [],
   "source": [
    "df1=df1[['univ_GPA','SAT']]"
   ]
  },
  {
   "cell_type": "code",
   "execution_count": 207,
   "metadata": {},
   "outputs": [
    {
     "data": {
      "text/plain": [
       "<matplotlib.collections.PathCollection at 0x1a1daf1278>"
      ]
     },
     "execution_count": 207,
     "metadata": {},
     "output_type": "execute_result"
    },
    {
     "data": {
      "image/png": "[encoded data removed]",
      "text/plain": [
       "<Figure size 432x288 with 1 Axes>"
      ]
     },
     "metadata": {
      "needs_background": "light"
     },
     "output_type": "display_data"
    }
   ],
   "source": [
    "plt.scatter(df1['SAT'],df1['univ_GPA'])"
   ]
  },
  {
   "cell_type": "code",
   "execution_count": 208,
   "metadata": {},
   "outputs": [
    {
     "data": {
      "text/html": [
       "<div>\n",
       "<style scoped>\n",
       "    .dataframe tbody tr th:only-of-type {\n",
       "        vertical-align: middle;\n",
       "    }\n",
       "\n",
       "    .dataframe tbody tr th {\n",
       "        vertical-align: top;\n",
       "    }\n",
       "\n",
       "    .dataframe thead th {\n",
       "        text-align: right;\n",
       "    }\n",
       "</style>\n",
       "<table border=\"1\" class=\"dataframe\">\n",
       "  <thead>\n",
       "    <tr style=\"text-align: right;\">\n",
       "      <th></th>\n",
       "      <th>univ_GPA</th>\n",
       "      <th>SAT</th>\n",
       "    </tr>\n",
       "  </thead>\n",
       "  <tbody>\n",
       "    <tr>\n",
       "      <th>0</th>\n",
       "      <td>3.52</td>\n",
       "      <td>1232</td>\n",
       "    </tr>\n",
       "    <tr>\n",
       "      <th>1</th>\n",
       "      <td>2.91</td>\n",
       "      <td>1070</td>\n",
       "    </tr>\n",
       "    <tr>\n",
       "      <th>2</th>\n",
       "      <td>2.40</td>\n",
       "      <td>1086</td>\n",
       "    </tr>\n",
       "    <tr>\n",
       "      <th>3</th>\n",
       "      <td>3.47</td>\n",
       "      <td>1287</td>\n",
       "    </tr>\n",
       "    <tr>\n",
       "      <th>4</th>\n",
       "      <td>3.47</td>\n",
       "      <td>1130</td>\n",
       "    </tr>\n",
       "    <tr>\n",
       "      <th>5</th>\n",
       "      <td>2.37</td>\n",
       "      <td>1048</td>\n",
       "    </tr>\n",
       "    <tr>\n",
       "      <th>6</th>\n",
       "      <td>2.40</td>\n",
       "      <td>1121</td>\n",
       "    </tr>\n",
       "    <tr>\n",
       "      <th>7</th>\n",
       "      <td>2.24</td>\n",
       "      <td>1095</td>\n",
       "    </tr>\n",
       "    <tr>\n",
       "      <th>8</th>\n",
       "      <td>3.02</td>\n",
       "      <td>1135</td>\n",
       "    </tr>\n",
       "    <tr>\n",
       "      <th>9</th>\n",
       "      <td>3.32</td>\n",
       "      <td>1208</td>\n",
       "    </tr>\n",
       "    <tr>\n",
       "      <th>10</th>\n",
       "      <td>3.59</td>\n",
       "      <td>1333</td>\n",
       "    </tr>\n",
       "    <tr>\n",
       "      <th>11</th>\n",
       "      <td>2.54</td>\n",
       "      <td>1160</td>\n",
       "    </tr>\n",
       "    <tr>\n",
       "      <th>12</th>\n",
       "      <td>3.19</td>\n",
       "      <td>1186</td>\n",
       "    </tr>\n",
       "    <tr>\n",
       "      <th>13</th>\n",
       "      <td>3.71</td>\n",
       "      <td>1243</td>\n",
       "    </tr>\n",
       "    <tr>\n",
       "      <th>14</th>\n",
       "      <td>3.58</td>\n",
       "      <td>1261</td>\n",
       "    </tr>\n",
       "    <tr>\n",
       "      <th>15</th>\n",
       "      <td>3.40</td>\n",
       "      <td>1325</td>\n",
       "    </tr>\n",
       "    <tr>\n",
       "      <th>16</th>\n",
       "      <td>3.73</td>\n",
       "      <td>1387</td>\n",
       "    </tr>\n",
       "    <tr>\n",
       "      <th>17</th>\n",
       "      <td>3.49</td>\n",
       "      <td>1364</td>\n",
       "    </tr>\n",
       "    <tr>\n",
       "      <th>18</th>\n",
       "      <td>2.25</td>\n",
       "      <td>1065</td>\n",
       "    </tr>\n",
       "    <tr>\n",
       "      <th>19</th>\n",
       "      <td>2.37</td>\n",
       "      <td>1106</td>\n",
       "    </tr>\n",
       "    <tr>\n",
       "      <th>20</th>\n",
       "      <td>3.29</td>\n",
       "      <td>1175</td>\n",
       "    </tr>\n",
       "    <tr>\n",
       "      <th>21</th>\n",
       "      <td>3.19</td>\n",
       "      <td>1161</td>\n",
       "    </tr>\n",
       "    <tr>\n",
       "      <th>22</th>\n",
       "      <td>3.28</td>\n",
       "      <td>1226</td>\n",
       "    </tr>\n",
       "    <tr>\n",
       "      <th>23</th>\n",
       "      <td>3.37</td>\n",
       "      <td>1177</td>\n",
       "    </tr>\n",
       "    <tr>\n",
       "      <th>24</th>\n",
       "      <td>3.61</td>\n",
       "      <td>1421</td>\n",
       "    </tr>\n",
       "    <tr>\n",
       "      <th>25</th>\n",
       "      <td>3.81</td>\n",
       "      <td>1450</td>\n",
       "    </tr>\n",
       "    <tr>\n",
       "      <th>26</th>\n",
       "      <td>2.40</td>\n",
       "      <td>1118</td>\n",
       "    </tr>\n",
       "    <tr>\n",
       "      <th>27</th>\n",
       "      <td>2.21</td>\n",
       "      <td>1069</td>\n",
       "    </tr>\n",
       "    <tr>\n",
       "      <th>28</th>\n",
       "      <td>3.58</td>\n",
       "      <td>1331</td>\n",
       "    </tr>\n",
       "    <tr>\n",
       "      <th>29</th>\n",
       "      <td>3.51</td>\n",
       "      <td>1441</td>\n",
       "    </tr>\n",
       "    <tr>\n",
       "      <th>...</th>\n",
       "      <td>...</td>\n",
       "      <td>...</td>\n",
       "    </tr>\n",
       "    <tr>\n",
       "      <th>75</th>\n",
       "      <td>3.51</td>\n",
       "      <td>1293</td>\n",
       "    </tr>\n",
       "    <tr>\n",
       "      <th>76</th>\n",
       "      <td>3.17</td>\n",
       "      <td>1155</td>\n",
       "    </tr>\n",
       "    <tr>\n",
       "      <th>77</th>\n",
       "      <td>3.20</td>\n",
       "      <td>1063</td>\n",
       "    </tr>\n",
       "    <tr>\n",
       "      <th>78</th>\n",
       "      <td>3.41</td>\n",
       "      <td>1379</td>\n",
       "    </tr>\n",
       "    <tr>\n",
       "      <th>79</th>\n",
       "      <td>3.29</td>\n",
       "      <td>1280</td>\n",
       "    </tr>\n",
       "    <tr>\n",
       "      <th>80</th>\n",
       "      <td>3.17</td>\n",
       "      <td>1074</td>\n",
       "    </tr>\n",
       "    <tr>\n",
       "      <th>81</th>\n",
       "      <td>3.12</td>\n",
       "      <td>1173</td>\n",
       "    </tr>\n",
       "    <tr>\n",
       "      <th>82</th>\n",
       "      <td>3.71</td>\n",
       "      <td>1210</td>\n",
       "    </tr>\n",
       "    <tr>\n",
       "      <th>83</th>\n",
       "      <td>3.50</td>\n",
       "      <td>1293</td>\n",
       "    </tr>\n",
       "    <tr>\n",
       "      <th>84</th>\n",
       "      <td>3.34</td>\n",
       "      <td>1354</td>\n",
       "    </tr>\n",
       "    <tr>\n",
       "      <th>85</th>\n",
       "      <td>3.48</td>\n",
       "      <td>1291</td>\n",
       "    </tr>\n",
       "    <tr>\n",
       "      <th>86</th>\n",
       "      <td>3.44</td>\n",
       "      <td>1279</td>\n",
       "    </tr>\n",
       "    <tr>\n",
       "      <th>87</th>\n",
       "      <td>3.59</td>\n",
       "      <td>1178</td>\n",
       "    </tr>\n",
       "    <tr>\n",
       "      <th>88</th>\n",
       "      <td>3.28</td>\n",
       "      <td>1194</td>\n",
       "    </tr>\n",
       "    <tr>\n",
       "      <th>89</th>\n",
       "      <td>3.00</td>\n",
       "      <td>1164</td>\n",
       "    </tr>\n",
       "    <tr>\n",
       "      <th>90</th>\n",
       "      <td>3.42</td>\n",
       "      <td>1034</td>\n",
       "    </tr>\n",
       "    <tr>\n",
       "      <th>91</th>\n",
       "      <td>3.41</td>\n",
       "      <td>1202</td>\n",
       "    </tr>\n",
       "    <tr>\n",
       "      <th>92</th>\n",
       "      <td>3.49</td>\n",
       "      <td>1208</td>\n",
       "    </tr>\n",
       "    <tr>\n",
       "      <th>93</th>\n",
       "      <td>3.28</td>\n",
       "      <td>1169</td>\n",
       "    </tr>\n",
       "    <tr>\n",
       "      <th>94</th>\n",
       "      <td>3.17</td>\n",
       "      <td>1242</td>\n",
       "    </tr>\n",
       "    <tr>\n",
       "      <th>95</th>\n",
       "      <td>3.24</td>\n",
       "      <td>1374</td>\n",
       "    </tr>\n",
       "    <tr>\n",
       "      <th>96</th>\n",
       "      <td>2.34</td>\n",
       "      <td>1113</td>\n",
       "    </tr>\n",
       "    <tr>\n",
       "      <th>97</th>\n",
       "      <td>3.28</td>\n",
       "      <td>1334</td>\n",
       "    </tr>\n",
       "    <tr>\n",
       "      <th>98</th>\n",
       "      <td>2.29</td>\n",
       "      <td>1105</td>\n",
       "    </tr>\n",
       "    <tr>\n",
       "      <th>99</th>\n",
       "      <td>2.08</td>\n",
       "      <td>1109</td>\n",
       "    </tr>\n",
       "    <tr>\n",
       "      <th>100</th>\n",
       "      <td>3.64</td>\n",
       "      <td>1195</td>\n",
       "    </tr>\n",
       "    <tr>\n",
       "      <th>101</th>\n",
       "      <td>3.42</td>\n",
       "      <td>1375</td>\n",
       "    </tr>\n",
       "    <tr>\n",
       "      <th>102</th>\n",
       "      <td>3.25</td>\n",
       "      <td>1372</td>\n",
       "    </tr>\n",
       "    <tr>\n",
       "      <th>103</th>\n",
       "      <td>2.76</td>\n",
       "      <td>1120</td>\n",
       "    </tr>\n",
       "    <tr>\n",
       "      <th>104</th>\n",
       "      <td>3.41</td>\n",
       "      <td>1044</td>\n",
       "    </tr>\n",
       "  </tbody>\n",
       "</table>\n",
       "<p>105 rows × 2 columns</p>\n",
       "</div>"
      ],
      "text/plain": [
       "     univ_GPA   SAT\n",
       "0        3.52  1232\n",
       "1        2.91  1070\n",
       "2        2.40  1086\n",
       "3        3.47  1287\n",
       "4        3.47  1130\n",
       "5        2.37  1048\n",
       "6        2.40  1121\n",
       "7        2.24  1095\n",
       "8        3.02  1135\n",
       "9        3.32  1208\n",
       "10       3.59  1333\n",
       "11       2.54  1160\n",
       "12       3.19  1186\n",
       "13       3.71  1243\n",
       "14       3.58  1261\n",
       "15       3.40  1325\n",
       "16       3.73  1387\n",
       "17       3.49  1364\n",
       "18       2.25  1065\n",
       "19       2.37  1106\n",
       "20       3.29  1175\n",
       "21       3.19  1161\n",
       "22       3.28  1226\n",
       "23       3.37  1177\n",
       "24       3.61  1421\n",
       "25       3.81  1450\n",
       "26       2.40  1118\n",
       "27       2.21  1069\n",
       "28       3.58  1331\n",
       "29       3.51  1441\n",
       "..        ...   ...\n",
       "75       3.51  1293\n",
       "76       3.17  1155\n",
       "77       3.20  1063\n",
       "78       3.41  1379\n",
       "79       3.29  1280\n",
       "80       3.17  1074\n",
       "81       3.12  1173\n",
       "82       3.71  1210\n",
       "83       3.50  1293\n",
       "84       3.34  1354\n",
       "85       3.48  1291\n",
       "86       3.44  1279\n",
       "87       3.59  1178\n",
       "88       3.28  1194\n",
       "89       3.00  1164\n",
       "90       3.42  1034\n",
       "91       3.41  1202\n",
       "92       3.49  1208\n",
       "93       3.28  1169\n",
       "94       3.17  1242\n",
       "95       3.24  1374\n",
       "96       2.34  1113\n",
       "97       3.28  1334\n",
       "98       2.29  1105\n",
       "99       2.08  1109\n",
       "100      3.64  1195\n",
       "101      3.42  1375\n",
       "102      3.25  1372\n",
       "103      2.76  1120\n",
       "104      3.41  1044\n",
       "\n",
       "[105 rows x 2 columns]"
      ]
     },
     "execution_count": 208,
     "metadata": {},
     "output_type": "execute_result"
    }
   ],
   "source": [
    "df1"
   ]
  },
  {
   "cell_type": "code",
   "execution_count": 209,
   "metadata": {},
   "outputs": [
    {
     "data": {
      "text/plain": [
       "array([1, 1, 1, 0, 1, 1, 1, 1, 1, 1, 0, 1, 1, 0, 0, 0, 0, 0, 1, 1, 1, 1,\n",
       "       1, 1, 0, 0, 1, 1, 0, 0, 0, 0, 0, 0, 1, 1, 0, 0, 1, 1, 1, 0, 1, 1,\n",
       "       1, 1, 1, 1, 1, 0, 0, 1, 1, 1, 1, 1, 1, 1, 0, 1, 1, 0, 0, 0, 0, 0,\n",
       "       0, 1, 0, 0, 0, 0, 0, 0, 0, 0, 1, 1, 0, 0, 1, 1, 1, 0, 0, 0, 0, 1,\n",
       "       1, 1, 1, 1, 1, 1, 0, 0, 1, 0, 1, 1, 1, 0, 0, 1, 1], dtype=int32)"
      ]
     },
     "execution_count": 209,
     "metadata": {},
     "output_type": "execute_result"
    }
   ],
   "source": [
    "kmeans = KMeans(n_clusters=2,init='k-means++',max_iter=300, tol=0.0001).fit(df1)\n",
    "classier=kmeans.labels_\n",
    "classier"
   ]
  },
  {
   "cell_type": "code",
   "execution_count": 210,
   "metadata": {},
   "outputs": [
    {
     "data": {
      "text/plain": [
       "array([[   3.45978261, 1329.93478261],\n",
       "       [   2.94915254, 1137.27118644]])"
      ]
     },
     "execution_count": 210,
     "metadata": {},
     "output_type": "execute_result"
    }
   ],
   "source": [
    "kmeans.cluster_centers_"
   ]
  },
  {
   "cell_type": "code",
   "execution_count": 211,
   "metadata": {},
   "outputs": [
    {
     "data": {
      "text/plain": [
       "Text(0, 0.5, 'University GPA')"
      ]
     },
     "execution_count": 211,
     "metadata": {},
     "output_type": "execute_result"
    },
    {
     "data": {
      "image/png": "[encoded data removed]",
      "text/plain": [
       "<Figure size 432x288 with 1 Axes>"
      ]
     },
     "metadata": {
      "needs_background": "light"
     },
     "output_type": "display_data"
    }
   ],
   "source": [
    "red=[]\n",
    "green=[]\n",
    "redy=[]\n",
    "greeny=[]\n",
    "redcount=0\n",
    "greencount=0\n",
    "for i in range(len(df1)):\n",
    "    if classier[i]==0:\n",
    "        plt.scatter(df1['SAT'][i],df1['univ_GPA'][i],color='red')\n",
    "        red.append(df1['SAT'][i])\n",
    "        redy.append(df1['univ_GPA'][i])\n",
    "        redcount+=1\n",
    "    else:\n",
    "        plt.scatter(df1['SAT'][i],df1['univ_GPA'][i],color='green') \n",
    "        green.append(df1['SAT'][i])\n",
    "        greeny.append(df1['univ_GPA'][i])\n",
    "        greencount+=1\n",
    "plt.xlabel('SAT')\n",
    "plt.ylabel('University GPA')"
   ]
  },
  {
   "cell_type": "code",
   "execution_count": 212,
   "metadata": {},
   "outputs": [],
   "source": [
    "sat1=np.arange(1034,1137.3,0.02)\n",
    "sat2=np.arange(1089.95,1232,0.02)\n",
    "sat3=np.arange(1242,1373.85,0.02)\n",
    "sat4=np.arange(1329.9,1450,0.02)\n",
    "gpa=np.arange(2,4,0.01)"
   ]
  },
  {
   "cell_type": "code",
   "execution_count": 213,
   "metadata": {},
   "outputs": [],
   "source": [
    "#generate membership functions\n",
    "sat1_lo=fuzz.trimf(sat1,[1034,1034,1090])\n",
    "sat1_md=fuzz.trimf(sat1,[1034,1090,1137.3])\n",
    "sat1_hi=fuzz.trimf(sat1,[1090,1137.3,1137.3])\n",
    "\n",
    "sat2_lo=fuzz.trimf(sat2,[1089.95,1089.95,1137.30])\n",
    "sat2_md=fuzz.trimf(sat2,[1089.95,1137.30,1232.00])\n",
    "sat2_hi=fuzz.trimf(sat2,[1137.30,1232.00,1232.00])\n",
    "\n",
    "sat3_lo=fuzz.trimf(sat3,[1242,1242,1329.9])\n",
    "sat3_md=fuzz.trimf(sat3,[1242,1329.9,1373.85])\n",
    "sat3_hi=fuzz.trimf(sat3,[1090,1137.3,1137.3])\n",
    "\n",
    "sat4_lo=fuzz.trimf(sat4,[0,0,1329.9])\n",
    "sat4_md=fuzz.trimf(sat4,[1329.9,1340.6,1450])\n",
    "sat4_hi=fuzz.trimf(sat4,[1340.6,1450,1450])\n",
    "\n",
    "gpa1_lo=fuzz.trimf(gpa,[2.08,2.08,2.74])\n",
    "gpa1_md=fuzz.trimf(gpa,[2.08,2.74,2.95])\n",
    "gpa1_hi=fuzz.trimf(gpa,[2.74,2.95,2.95])\n",
    "\n",
    "gpa2_lo=fuzz.trimf(gpa,[2.57,2.57,2.95])\n",
    "gpa2_md=fuzz.trimf(gpa,[2.57,2.95,3.71])\n",
    "gpa2_hi=fuzz.trimf(gpa,[2.95,3.71,3.71])\n",
    "\n",
    "gpa3_lo=fuzz.trimf(gpa,[3.01,3.01,3.35])\n",
    "gpa3_md=fuzz.trimf(gpa,[3.01,3.35,3.46])\n",
    "gpa3_hi=fuzz.trimf(gpa,[3.35,3.46,3.46])\n",
    "\n",
    "gpa4_lo=fuzz.trimf(gpa,[3.285,3.285,3.46])\n",
    "gpa4_md=fuzz.trimf(gpa,[3.285,3.46,3.81])\n",
    "gpa4_hi=fuzz.trimf(gpa,[3.46,3.81,3.81])"
   ]
  },
  {
   "cell_type": "code",
   "execution_count": 214,
   "metadata": {},
   "outputs": [],
   "source": [
    "# SAT1=np.concatenate((sat1,sat2))\n",
    "# SAT1_lo=np.concatenate((sat1_lo,sat2_lo))\n",
    "# SAT1_md=np.concatenate((sat1_md,sat2_md))\n",
    "# SAT1_hi=np.concatenate((sat1_hi,sat2_hi))"
   ]
  },
  {
   "cell_type": "code",
   "execution_count": 215,
   "metadata": {},
   "outputs": [],
   "source": [
    "# SAT2=np.concatenate((sat3,sat4))\n",
    "# SAT2_lo=np.concatenate((sat3_lo,sat4_lo))\n",
    "# SAT2_md=np.concatenate((sat3_md,sat4_md))\n",
    "# SAT2_hi=np.concatenate((sat3_hi,sat4_hi))"
   ]
  },
  {
   "cell_type": "code",
   "execution_count": 216,
   "metadata": {},
   "outputs": [],
   "source": [
    "#Rule application\n",
    "sa1_lo=fuzz.interp_membership(sat1,sat1_lo,1231.9)\n",
    "sa1_md=fuzz.interp_membership(sat1,sat1_md,1231.9)\n",
    "sa1_hi=fuzz.interp_membership(sat1,sat1_hi,1231.9)\n",
    "\n",
    "sa2_lo=fuzz.interp_membership(sat2,sat2_lo,1231.9)\n",
    "sa2_md=fuzz.interp_membership(sat2,sat2_md,1231.9)\n",
    "sa2_hi=fuzz.interp_membership(sat2,sat2_hi,1231.9)"
   ]
  },
  {
   "cell_type": "code",
   "execution_count": 217,
   "metadata": {},
   "outputs": [],
   "source": [
    "rule1_lo=np.fmin(np.fmax(sa1_lo,sa2_lo),np.fmax(gpa1_lo,gpa2_lo))\n",
    "rule1_md=np.fmin(np.fmax(sa1_md,sa2_md),np.fmax(gpa1_md,gpa2_md))\n",
    "rule1_hi=np.fmin(np.fmax(sa1_hi,sa2_hi),np.fmax(gpa1_hi,gpa2_hi))"
   ]
  },
  {
   "cell_type": "code",
   "execution_count": 218,
   "metadata": {},
   "outputs": [],
   "source": [
    "aggregated=np.fmax(rule1_lo,np.fmax(rule1_md,rule1_hi))"
   ]
  },
  {
   "cell_type": "code",
   "execution_count": 219,
   "metadata": {},
   "outputs": [],
   "source": [
    "gp=fuzz.defuzz(gpa,aggregated,'centroid')\n",
    "gpa=fuzz.interp_membership(gpa,aggregated,gp)"
   ]
  },
  {
   "cell_type": "code",
   "execution_count": 220,
   "metadata": {},
   "outputs": [
    {
     "data": {
      "text/plain": [
       "3.3305628046853526"
      ]
     },
     "execution_count": 220,
     "metadata": {},
     "output_type": "execute_result"
    }
   ],
   "source": [
    "gp"
   ]
  },
  {
   "cell_type": "code",
   "execution_count": null,
   "metadata": {},
   "outputs": [],
   "source": [
    "   "
   ]
  }
 ],
 "metadata": {
  "kernelspec": {
   "display_name": "Python 3",
   "language": "python",
   "name": "python3"
  },
  "language_info": {
   "codemirror_mode": {
    "name": "ipython",
    "version": 3
   },
   "file_extension": ".py",
   "mimetype": "text/x-python",
   "name": "python",
   "nbconvert_exporter": "python",
   "pygments_lexer": "ipython3",
   "version": "3.7.1"
  }
 },
 "nbformat": 4,
 "nbformat_minor": 2
}
