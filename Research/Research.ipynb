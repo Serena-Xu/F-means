{
 "cells": [
  {
   "cell_type": "code",
<<<<<<< HEAD
<<<<<<< HEAD
   "execution_count": 4,
=======
=======
>>>>>>> parent of 6cd3e6b... Update Research.ipynb
   "execution_count": 1,
   "metadata": {},
   "outputs": [
    {
     "name": "stderr",
     "output_type": "stream",
     "text": [
      "Using TensorFlow backend.\n"
     ]
    }
   ],
   "source": [
    "import pandas as pd\n",
    "import numpy as np\n",
    "import matplotlib.pyplot as plt\n",
    "from sklearn.cluster import KMeans\n",
    "import skfuzzy as fuzz\n",
    "from keras.utils import to_categorical\n",
    "from keras import models\n",
    "from keras import layers\n",
    "from keras.datasets import imdb"
   ]
  },
  {
   "cell_type": "code",
   "execution_count": 2,
   "metadata": {},
   "outputs": [],
   "source": [
    "df1=pd.read_excel('SAT_GPA.xls')"
   ]
  },
  {
   "cell_type": "code",
   "execution_count": 3,
   "metadata": {},
   "outputs": [],
   "source": [
    "df1=df1[['univ_GPA','SAT']]"
   ]
  },
  {
   "cell_type": "code",
   "execution_count": 4,
   "metadata": {},
   "outputs": [
    {
     "data": {
      "text/plain": [
       "<matplotlib.collections.PathCollection at 0x1a2cd407f0>"
      ]
     },
     "execution_count": 4,
     "metadata": {},
     "output_type": "execute_result"
    },
    {
     "data": {
      "image/png": "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\n",
      "text/plain": [
       "<Figure size 432x288 with 1 Axes>"
      ]
     },
     "metadata": {
      "needs_background": "light"
     },
     "output_type": "display_data"
    }
   ],
   "source": [
    "plt.scatter(df1['SAT'],df1['univ_GPA'])"
   ]
  },
  {
   "cell_type": "code",
   "execution_count": 5,
<<<<<<< HEAD
>>>>>>> parent of 6cd3e6b... Update Research.ipynb
=======
>>>>>>> parent of 6cd3e6b... Update Research.ipynb
   "metadata": {},
   "outputs": [
    {
     "data": {
      "text/plain": [
<<<<<<< HEAD
<<<<<<< HEAD
       "2.8781833186895414"
      ]
     },
     "execution_count": 4,
=======
       "105"
      ]
     },
     "execution_count": 5,
>>>>>>> parent of 6cd3e6b... Update Research.ipynb
=======
       "105"
      ]
     },
     "execution_count": 5,
>>>>>>> parent of 6cd3e6b... Update Research.ipynb
     "metadata": {},
     "output_type": "execute_result"
    }
   ],
   "source": [
<<<<<<< HEAD
<<<<<<< HEAD
    "import pandas as pd\n",
    "import numpy as np\n",
    "import matplotlib.pyplot as plt\n",
    "from sklearn.cluster import KMeans\n",
    "import skfuzzy as fuzz\n",
    "from keras.utils import to_categorical\n",
    "from keras import models\n",
    "from keras import layers\n",
    "from keras.datasets import imdb\n",
    "from skfuzzy import control as ctrl\n",
    "from numpy import array\n",
    "\n",
    "df1=pd.read_excel('SAT_GPA.xls')\n",
    "df1=df1[['univ_GPA','SAT']]\n",
    "#plt.scatter(df1['SAT'],df1['univ_GPA'])\n",
    "\n",
    "\n",
    "kmeans = KMeans(n_clusters=2,init='k-means++',max_iter=300, tol=0.0001).fit(df1)\n",
    "classier=kmeans.labels_\n",
    "classier\n",
    "\n",
    "kmeans.cluster_centers_\n",
    "\n",
    "# red=[]\n",
    "# green=[]\n",
    "# redy=[]\n",
    "# greeny=[]\n",
    "# redcount=0\n",
    "# greencount=0\n",
    "# for i in range(len(df1)):\n",
    "#     if classier[i]==0:\n",
    "#         plt.scatter(df1['SAT'][i],df1['univ_GPA'][i],color='red')\n",
    "#         red.append(df1['SAT'][i])\n",
    "#         redy.append(df1['univ_GPA'][i])\n",
    "#         redcount+=1\n",
    "#     else:\n",
    "#         plt.scatter(df1['SAT'][i],df1['univ_GPA'][i],color='green') \n",
    "#         green.append(df1['SAT'][i])\n",
    "#         greeny.append(df1['univ_GPA'][i])\n",
    "#         greencount+=1\n",
    "# #plt.xlabel('SAT')\n",
    "# #plt.ylabel('University GPA')\n",
    "\n",
    "\n",
    "\n",
    "sat=ctrl.Antecedent(np.arange(1034,1232,0.01),'sat')\n",
    "gpa=ctrl.Consequent(np.arange(2,4,0.01),'gpa')\n",
    "\n",
    "\n",
    "#fuzzy\n",
    "sat['low']=fuzz.trimf(sat.universe,[1034,1089.9,1137.3])\n",
    "sat['high']=fuzz.trimf(sat.universe,[1089.9,1137.3,1232])\n",
    "\n",
    "gpa['low']=fuzz.trimf(gpa.universe,[2.08,2.74,2.95])\n",
    "gpa['high']=fuzz.trimf(gpa.universe,[2.57,2.95,3.71])\n",
    "\n",
    "\n",
    "rule1=ctrl.Rule(sat['low'],gpa['low'])\n",
    "rule2=ctrl.Rule(sat['low'],gpa['high'])\n",
    "rule3=ctrl.Rule(sat['high'],gpa['low'])\n",
    "rule4=ctrl.Rule(sat['high'],gpa['high'])\n",
    "\n",
    "gpa_ctrl=ctrl.ControlSystem([rule1,rule2,rule3,rule4])\n",
    "gpa=ctrl.ControlSystemSimulation(gpa_ctrl)\n",
    "\n",
    "gpa.input['sat']=1137\n",
    "gpa.compute()\n",
    "gpa.output['gpa']"
=======
    "len(df1)"
>>>>>>> parent of 6cd3e6b... Update Research.ipynb
=======
    "len(df1)"
>>>>>>> parent of 6cd3e6b... Update Research.ipynb
   ]
  },
  {
   "cell_type": "code",
<<<<<<< HEAD
<<<<<<< HEAD
   "execution_count": 5,
   "metadata": {},
   "outputs": [
    {
     "name": "stdout",
     "output_type": "stream",
     "text": [
      "2.89 3.52\n",
      "2.89 2.91\n",
      "2.88 2.4\n",
      "2.89 3.47\n",
      "2.88 3.47\n",
      "2.89 2.37\n",
      "2.88 2.4\n",
      "2.88 2.24\n",
      "2.88 3.02\n",
      "2.89 3.32\n",
      "2.89 3.59\n",
      "2.88 2.54\n",
      "2.88 3.19\n",
      "2.89 3.71\n",
      "2.89 3.58\n",
      "2.89 3.4\n",
      "2.89 3.73\n",
      "2.89 3.49\n",
      "2.89 2.25\n",
      "2.89 2.37\n",
      "2.88 3.29\n",
      "2.88 3.19\n",
      "2.89 3.28\n",
      "2.88 3.37\n",
      "2.89 3.61\n",
      "2.89 3.81\n",
      "2.88 2.4\n",
      "2.89 2.21\n",
      "2.89 3.58\n",
      "2.89 3.51\n",
      "2.89 3.62\n",
      "2.89 3.6\n",
      "2.89 3.65\n",
      "2.89 3.76\n",
      "2.89 2.27\n",
      "2.89 2.35\n",
      "2.89 3.17\n",
      "2.89 3.47\n",
      "2.88 3.0\n",
      "2.88 2.74\n",
      "2.89 3.37\n",
      "2.89 3.54\n",
      "2.88 3.28\n",
      "2.89 3.39\n",
      "2.89 3.28\n",
      "2.88 3.19\n",
      "2.89 2.52\n",
      "2.88 3.08\n",
      "2.89 3.01\n",
      "2.89 3.42\n",
      "2.89 3.6\n",
      "2.88 2.4\n",
      "2.88 2.83\n",
      "2.88 2.38\n",
      "2.88 3.21\n",
      "2.88 2.24\n",
      "2.89 3.4\n",
      "2.88 3.07\n",
      "2.89 3.52\n",
      "2.88 3.47\n",
      "2.88 3.08\n",
      "2.89 3.38\n",
      "2.89 3.41\n",
      "2.89 3.64\n",
      "2.89 3.71\n",
      "2.89 3.01\n",
      "2.89 3.37\n",
      "2.88 2.34\n",
      "2.89 3.29\n",
      "2.89 3.4\n",
      "2.89 3.38\n",
      "2.89 3.28\n",
      "2.89 3.31\n",
      "2.89 3.42\n",
      "2.89 3.39\n",
      "2.89 3.51\n",
      "2.88 3.17\n",
      "2.89 3.2\n",
      "2.89 3.41\n",
      "2.89 3.29\n",
      "2.89 3.17\n",
      "2.88 3.12\n",
      "2.89 3.71\n",
      "2.89 3.5\n",
      "2.89 3.34\n",
      "2.89 3.48\n",
      "2.89 3.44\n",
      "2.88 3.59\n",
      "2.89 3.28\n",
      "2.88 3.0\n",
      "2.89 3.42\n",
      "2.89 3.41\n",
      "2.89 3.49\n",
      "2.88 3.28\n",
      "2.89 3.17\n",
      "2.89 3.24\n",
      "2.88 2.34\n",
      "2.89 3.28\n",
      "2.89 2.29\n",
      "2.89 2.08\n",
      "2.89 3.64\n",
      "2.89 3.42\n",
      "2.89 3.25\n",
      "2.88 2.76\n",
      "2.89 3.41\n"
     ]
=======
=======
>>>>>>> parent of 6cd3e6b... Update Research.ipynb
   "execution_count": 6,
   "metadata": {},
   "outputs": [
    {
     "data": {
      "text/plain": [
       "array([1, 1, 1, 0, 1, 1, 1, 1, 1, 1, 0, 1, 1, 0, 0, 0, 0, 0, 1, 1, 1, 1,\n",
       "       1, 1, 0, 0, 1, 1, 0, 0, 0, 0, 0, 0, 1, 1, 0, 0, 1, 1, 1, 0, 1, 1,\n",
       "       1, 1, 1, 1, 1, 0, 0, 1, 1, 1, 1, 1, 1, 1, 0, 1, 1, 0, 0, 0, 0, 0,\n",
       "       0, 1, 0, 0, 0, 0, 0, 0, 0, 0, 1, 1, 0, 0, 1, 1, 1, 0, 0, 0, 0, 1,\n",
       "       1, 1, 1, 1, 1, 1, 0, 0, 1, 0, 1, 1, 1, 0, 0, 1, 1], dtype=int32)"
      ]
     },
     "execution_count": 6,
     "metadata": {},
     "output_type": "execute_result"
>>>>>>> parent of 6cd3e6b... Update Research.ipynb
    }
   ],
   "source": [
    "for i in range(len(df1)):\n",
    "    gpa.input['sat']=df1['SAT'][i]+0.01\n",
    "    gpa.compute()\n",
    "    result=gpa.output['gpa']\n",
    "    print(str(round(result, 2)),df1['univ_GPA'][i])\n",
    "    "
   ]
  },
  {
   "cell_type": "code",
<<<<<<< HEAD
<<<<<<< HEAD
   "execution_count": 65,
   "metadata": {},
   "outputs": [
    {
     "ename": "ValueError",
     "evalue": "min() arg is an empty sequence",
     "output_type": "error",
     "traceback": [
      "\u001b[0;31m---------------------------------------------------------------------------\u001b[0m",
      "\u001b[0;31mValueError\u001b[0m                                Traceback (most recent call last)",
      "\u001b[0;32m<ipython-input-65-4df232394636>\u001b[0m in \u001b[0;36m<module>\u001b[0;34m\u001b[0m\n\u001b[0;32m----> 1\u001b[0;31m \u001b[0mmin\u001b[0m\u001b[0;34m(\u001b[0m\u001b[0ms\u001b[0m\u001b[0;34m)\u001b[0m\u001b[0;34m\u001b[0m\u001b[0m\n\u001b[0m",
      "\u001b[0;31mValueError\u001b[0m: min() arg is an empty sequence"
     ]
=======
=======
>>>>>>> parent of 6cd3e6b... Update Research.ipynb
   "execution_count": 7,
   "metadata": {},
   "outputs": [
    {
     "data": {
      "text/plain": [
       "array([[   3.45978261, 1329.93478261],\n",
       "       [   2.94915254, 1137.27118644]])"
      ]
     },
     "execution_count": 7,
     "metadata": {},
     "output_type": "execute_result"
>>>>>>> parent of 6cd3e6b... Update Research.ipynb
    }
   ],
   "source": [
    "min(s)"
   ]
  },
  {
   "cell_type": "code",
<<<<<<< HEAD
<<<<<<< HEAD
   "execution_count": 44,
=======
   "execution_count": 8,
>>>>>>> parent of 6cd3e6b... Update Research.ipynb
=======
   "execution_count": 8,
>>>>>>> parent of 6cd3e6b... Update Research.ipynb
   "metadata": {},
   "outputs": [
    {
     "data": {
      "text/plain": [
       "2.8929018327005407"
      ]
     },
<<<<<<< HEAD
<<<<<<< HEAD
     "execution_count": 44,
     "metadata": {},
     "output_type": "execute_result"
=======
=======
>>>>>>> parent of 6cd3e6b... Update Research.ipynb
     "execution_count": 8,
     "metadata": {},
     "output_type": "execute_result"
    },
    {
     "data": {
      "image/png": "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\n",
      "text/plain": [
       "<Figure size 432x288 with 1 Axes>"
      ]
     },
     "metadata": {
      "needs_background": "light"
     },
     "output_type": "display_data"
>>>>>>> parent of 6cd3e6b... Update Research.ipynb
    }
   ],
   "source": [
    "max(s)"
   ]
  },
  {
   "cell_type": "code",
<<<<<<< HEAD
<<<<<<< HEAD
   "execution_count": null,
=======
   "execution_count": 9,
>>>>>>> parent of 6cd3e6b... Update Research.ipynb
=======
   "execution_count": 9,
>>>>>>> parent of 6cd3e6b... Update Research.ipynb
   "metadata": {},
   "outputs": [],
   "source": []
  },
  {
<<<<<<< HEAD
   "cell_type": "markdown",
=======
   "cell_type": "code",
   "execution_count": 10,
<<<<<<< HEAD
>>>>>>> parent of 6cd3e6b... Update Research.ipynb
=======
>>>>>>> parent of 6cd3e6b... Update Research.ipynb
   "metadata": {},
   "source": [
    "#neural network"
   ]
  },
  {
   "cell_type": "code",
<<<<<<< HEAD
<<<<<<< HEAD
   "execution_count": 189,
=======
   "execution_count": 11,
>>>>>>> parent of 6cd3e6b... Update Research.ipynb
=======
   "execution_count": 11,
>>>>>>> parent of 6cd3e6b... Update Research.ipynb
   "metadata": {},
   "outputs": [],
   "source": [
    "# data=df1['SAT']\n",
    "# target=df1['univ_GPA']"
   ]
  },
  {
   "cell_type": "code",
<<<<<<< HEAD
<<<<<<< HEAD
   "execution_count": 190,
=======
   "execution_count": 12,
>>>>>>> parent of 6cd3e6b... Update Research.ipynb
=======
   "execution_count": 12,
>>>>>>> parent of 6cd3e6b... Update Research.ipynb
   "metadata": {},
   "outputs": [],
   "source": [
    "# test_x = data[81:]\n",
    "# test_y = target[81:]\n",
    "# train_x = data[:81]\n",
    "# train_y = target[:81]"
   ]
  },
  {
   "cell_type": "code",
<<<<<<< HEAD
<<<<<<< HEAD
   "execution_count": 11,
   "metadata": {},
   "outputs": [],
   "source": [
    "# model = models.Sequential()\n",
    "# # Input - Layer\n",
    "# model.add(layers.Dense(50, activation = \"relu\", input_shape=(1, )))\n",
    "# # Hidden - Layers\n",
    "# model.add(layers.Dropout(0.3, noise_shape=None, seed=None))\n",
    "# model.add(layers.Dense(50, activation = \"relu\"))\n",
    "# model.add(layers.Dropout(0.2, noise_shape=None, seed=None))\n",
    "# model.add(layers.Dense(50, activation = \"relu\"))\n",
    "# # Output- Layer\n",
    "# model.add(layers.Dense(1, activation = \"linear\"))\n",
    "# model.summary()\n",
    "# # compiling the model\n",
    "# model.compile(\n",
    "#  optimizer = \"adam\",\n",
    "#  loss = \"mean_squared_error\"\n",
    "# )\n",
    "\n",
    "# results = model.fit(\n",
    "#  train_x, train_y,\n",
    "#  epochs= 2000,\n",
    "#  batch_size = 200,\n",
    "#  validation_data = (test_x, test_y)\n",
    "# )\n",
    "# a=model._make_predict_function()\n",
    "# #print(\"Test-Accuracy:\", np.mean(results.history[\"val_acc\"]))"
=======
=======
>>>>>>> parent of 6cd3e6b... Update Research.ipynb
   "execution_count": 13,
   "metadata": {},
   "outputs": [],
   "source": [
    "#Rule application\n",
    "sa1_lo=fuzz.interp_membership(sat1,sat1_lo,1231.9)\n",
    "sa1_md=fuzz.interp_membership(sat1,sat1_md,1231.9)\n",
    "sa1_hi=fuzz.interp_membership(sat1,sat1_hi,1231.9)\n",
    "\n",
    "sa2_lo=fuzz.interp_membership(sat2,sat2_lo,1231.9)\n",
    "sa2_md=fuzz.interp_membership(sat2,sat2_md,1231.9)\n",
    "sa2_hi=fuzz.interp_membership(sat2,sat2_hi,1231.9)"
<<<<<<< HEAD
>>>>>>> parent of 6cd3e6b... Update Research.ipynb
=======
>>>>>>> parent of 6cd3e6b... Update Research.ipynb
   ]
  },
  {
   "cell_type": "code",
<<<<<<< HEAD
<<<<<<< HEAD
   "execution_count": 12,
   "metadata": {},
   "outputs": [],
   "source": [
    "# Xnew = [[1232,1070,1086,1287,1130,1333,1364]]\n",
    "# ynew = model.predict(Xnew)\n",
    "# print(ynew)"
=======
=======
>>>>>>> parent of 6cd3e6b... Update Research.ipynb
   "execution_count": 14,
   "metadata": {},
   "outputs": [],
   "source": [
    "rule1_lo=np.fmin(np.fmax(sa1_lo,sa2_lo),np.fmax(gpa1_lo,gpa2_lo))\n",
    "rule1_md=np.fmin(np.fmax(sa1_md,sa2_md),np.fmax(gpa1_md,gpa2_md))\n",
    "rule1_hi=np.fmin(np.fmax(sa1_hi,sa2_hi),np.fmax(gpa1_hi,gpa2_hi))"
<<<<<<< HEAD
>>>>>>> parent of 6cd3e6b... Update Research.ipynb
=======
>>>>>>> parent of 6cd3e6b... Update Research.ipynb
   ]
  },
  {
   "cell_type": "code",
<<<<<<< HEAD
<<<<<<< HEAD
   "execution_count": 4,
=======
   "execution_count": 15,
>>>>>>> parent of 6cd3e6b... Update Research.ipynb
=======
   "execution_count": 15,
>>>>>>> parent of 6cd3e6b... Update Research.ipynb
   "metadata": {},
   "outputs": [],
   "source": [
    "# data=pd.read_csv('carnegie_mellon.csv',header=None)"
   ]
  },
  {
   "cell_type": "code",
<<<<<<< HEAD
<<<<<<< HEAD
   "execution_count": 5,
=======
   "execution_count": 16,
>>>>>>> parent of 6cd3e6b... Update Research.ipynb
=======
   "execution_count": 16,
>>>>>>> parent of 6cd3e6b... Update Research.ipynb
   "metadata": {},
   "outputs": [],
   "source": [
    "# gpa=data.iloc[:,0]\n",
    "# sat=data.iloc[:,1]\n",
    "# results=data.iloc[:,2]"
   ]
  },
  {
   "cell_type": "code",
<<<<<<< HEAD
<<<<<<< HEAD
   "execution_count": 13,
   "metadata": {},
   "outputs": [],
=======
=======
>>>>>>> parent of 6cd3e6b... Update Research.ipynb
   "execution_count": 17,
   "metadata": {},
   "outputs": [
    {
     "data": {
      "text/plain": [
       "3.3305628046853526"
      ]
     },
     "execution_count": 17,
     "metadata": {},
     "output_type": "execute_result"
    }
   ],
>>>>>>> parent of 6cd3e6b... Update Research.ipynb
   "source": [
    "# fig, ax = plt.subplots()\n",
    "# for i in range(len(gpa)):\n",
    "#     if results[i]==0:\n",
    "#         plt.scatter(sat[i],gpa[i],c='r')\n",
    "#     else:\n",
    "#         plt.scatter(sat[i],gpa[i],c='g')\n",
    "# ax.set_xlabel(\"GPA\")\n",
    "# ax.set_ylabel(\"SAT\")\n",
    "# plt.show()  "
   ]
  },
  {
   "cell_type": "code",
   "execution_count": 7,
   "metadata": {},
   "outputs": [],
   "source": [
    "# df=data.iloc[:,0:2]"
   ]
  },
  {
   "cell_type": "code",
<<<<<<< HEAD
<<<<<<< HEAD
   "execution_count": 14,
=======
   "execution_count": 18,
>>>>>>> parent of 6cd3e6b... Update Research.ipynb
=======
   "execution_count": 18,
>>>>>>> parent of 6cd3e6b... Update Research.ipynb
   "metadata": {},
   "outputs": [],
   "source": [
    "# kmeans = KMeans(n_clusters=2,init='k-means++',max_iter=500, tol=0.0001).fit(df)\n",
    "# classier=kmeans.labels_\n",
    "# classier"
   ]
  },
  {
   "cell_type": "code",
<<<<<<< HEAD
<<<<<<< HEAD
   "execution_count": 15,
=======
   "execution_count": 29,
>>>>>>> parent of 6cd3e6b... Update Research.ipynb
=======
   "execution_count": 29,
>>>>>>> parent of 6cd3e6b... Update Research.ipynb
   "metadata": {},
   "outputs": [],
   "source": [
    "# kmeans.cluster_centers_"
   ]
  },
  {
   "cell_type": "code",
<<<<<<< HEAD
<<<<<<< HEAD
   "execution_count": 17,
   "metadata": {},
   "outputs": [],
   "source": [
    "# red=[]\n",
    "# green=[]\n",
    "# redy=[]\n",
    "# greeny=[]\n",
    "# redcount=0\n",
    "# greencount=0\n",
    "# for i in range(len(gpa)):\n",
    "#     if classier[i]==0:\n",
    "#         plt.scatter(sat[i],gpa[i],color='red')\n",
    "#         red.append(sat[i])\n",
    "#         redy.append(gpa[i])\n",
    "#         redcount+=1\n",
    "#     else:\n",
    "#         plt.scatter(sat[i],gpa[i],color='green') \n",
    "#         green.append(sat[i])\n",
    "#         greeny.append(gpa[i])\n",
    "#         greencount+=1\n",
    "# plt.xlabel('SAT')\n",
    "# plt.ylabel('University GPA')\n",
    "# plt.show()"
=======
=======
>>>>>>> parent of 6cd3e6b... Update Research.ipynb
   "execution_count": 103,
   "metadata": {},
   "outputs": [
    {
     "name": "stdout",
     "output_type": "stream",
     "text": [
      "_________________________________________________________________\n",
      "Layer (type)                 Output Shape              Param #   \n",
      "=================================================================\n",
      "dense_126 (Dense)            (None, 50)                100       \n",
      "_________________________________________________________________\n",
      "dropout_50 (Dropout)         (None, 50)                0         \n",
      "_________________________________________________________________\n",
      "dense_127 (Dense)            (None, 50)                2550      \n",
      "_________________________________________________________________\n",
      "dropout_51 (Dropout)         (None, 50)                0         \n",
      "_________________________________________________________________\n",
      "dense_128 (Dense)            (None, 50)                2550      \n",
      "_________________________________________________________________\n",
      "dense_129 (Dense)            (None, 1)                 51        \n",
      "=================================================================\n",
      "Total params: 5,251\n",
      "Trainable params: 5,251\n",
      "Non-trainable params: 0\n",
      "_________________________________________________________________\n",
      "Train on 81 samples, validate on 24 samples\n",
      "Epoch 1/50\n",
      "81/81 [==============================] - 2s 22ms/step - loss: 22.9924 - val_loss: 22.5127\n",
      "Epoch 2/50\n",
      "81/81 [==============================] - 0s 62us/step - loss: 22.2975 - val_loss: 21.6531\n",
      "Epoch 3/50\n",
      "81/81 [==============================] - 0s 81us/step - loss: 21.3539 - val_loss: 20.8136\n",
      "Epoch 4/50\n",
      "81/81 [==============================] - 0s 80us/step - loss: 20.6893 - val_loss: 19.9944\n",
      "Epoch 5/50\n",
      "81/81 [==============================] - 0s 101us/step - loss: 19.9494 - val_loss: 19.1959\n",
      "Epoch 6/50\n",
      "81/81 [==============================] - 0s 94us/step - loss: 18.9144 - val_loss: 18.4182\n",
      "Epoch 7/50\n",
      "81/81 [==============================] - 0s 104us/step - loss: 18.2063 - val_loss: 17.6609\n",
      "Epoch 8/50\n",
      "81/81 [==============================] - 0s 98us/step - loss: 17.5053 - val_loss: 16.9246\n",
      "Epoch 9/50\n",
      "81/81 [==============================] - 0s 93us/step - loss: 16.8402 - val_loss: 16.2149\n",
      "Epoch 10/50\n",
      "81/81 [==============================] - 0s 99us/step - loss: 16.1039 - val_loss: 15.5195\n",
      "Epoch 11/50\n",
      "81/81 [==============================] - 0s 94us/step - loss: 15.2271 - val_loss: 14.8447\n",
      "Epoch 12/50\n",
      "81/81 [==============================] - 0s 88us/step - loss: 14.6245 - val_loss: 14.1904\n",
      "Epoch 13/50\n",
      "81/81 [==============================] - 0s 69us/step - loss: 13.9985 - val_loss: 13.5567\n",
      "Epoch 14/50\n",
      "81/81 [==============================] - 0s 91us/step - loss: 13.4097 - val_loss: 12.9428\n",
      "Epoch 15/50\n",
      "81/81 [==============================] - 0s 90us/step - loss: 12.6668 - val_loss: 12.3488\n",
      "Epoch 16/50\n",
      "81/81 [==============================] - 0s 89us/step - loss: 12.2010 - val_loss: 11.7744\n",
      "Epoch 17/50\n",
      "81/81 [==============================] - 0s 88us/step - loss: 11.7496 - val_loss: 11.2191\n",
      "Epoch 18/50\n",
      "81/81 [==============================] - 0s 113us/step - loss: 11.1380 - val_loss: 10.6829\n",
      "Epoch 19/50\n",
      "81/81 [==============================] - 0s 93us/step - loss: 10.5519 - val_loss: 10.1656\n",
      "Epoch 20/50\n",
      "81/81 [==============================] - 0s 91us/step - loss: 10.1186 - val_loss: 9.6671\n",
      "Epoch 21/50\n",
      "81/81 [==============================] - 0s 88us/step - loss: 9.5857 - val_loss: 9.1868\n",
      "Epoch 22/50\n",
      "81/81 [==============================] - 0s 84us/step - loss: 8.9987 - val_loss: 8.7248\n",
      "Epoch 23/50\n",
      "81/81 [==============================] - 0s 79us/step - loss: 8.5883 - val_loss: 8.2805\n",
      "Epoch 24/50\n",
      "81/81 [==============================] - 0s 102us/step - loss: 8.3478 - val_loss: 7.8535\n",
      "Epoch 25/50\n",
      "81/81 [==============================] - 0s 102us/step - loss: 7.9038 - val_loss: 7.4435\n",
      "Epoch 26/50\n",
      "81/81 [==============================] - 0s 89us/step - loss: 7.3752 - val_loss: 7.0503\n",
      "Epoch 27/50\n",
      "81/81 [==============================] - 0s 110us/step - loss: 7.1089 - val_loss: 6.6735\n",
      "Epoch 28/50\n",
      "81/81 [==============================] - 0s 104us/step - loss: 6.7536 - val_loss: 6.3084\n",
      "Epoch 29/50\n",
      "81/81 [==============================] - 0s 102us/step - loss: 6.2974 - val_loss: 5.9634\n",
      "Epoch 30/50\n",
      "81/81 [==============================] - 0s 116us/step - loss: 5.9441 - val_loss: 5.6338\n",
      "Epoch 31/50\n",
      "81/81 [==============================] - 0s 128us/step - loss: 5.7096 - val_loss: 5.3191\n",
      "Epoch 32/50\n",
      "81/81 [==============================] - 0s 107us/step - loss: 5.4023 - val_loss: 5.0189\n",
      "Epoch 33/50\n",
      "81/81 [==============================] - 0s 120us/step - loss: 5.1677 - val_loss: 4.7327\n",
      "Epoch 34/50\n",
      "81/81 [==============================] - 0s 91us/step - loss: 4.6880 - val_loss: 4.4605\n",
      "Epoch 35/50\n",
      "81/81 [==============================] - 0s 103us/step - loss: 4.4934 - val_loss: 4.2016\n",
      "Epoch 36/50\n",
      "81/81 [==============================] - 0s 95us/step - loss: 4.2771 - val_loss: 3.9555\n",
      "Epoch 37/50\n",
      "81/81 [==============================] - 0s 101us/step - loss: 4.1785 - val_loss: 3.7216\n",
      "Epoch 38/50\n",
      "81/81 [==============================] - 0s 112us/step - loss: 3.8544 - val_loss: 3.4997\n",
      "Epoch 39/50\n",
      "81/81 [==============================] - 0s 101us/step - loss: 3.6726 - val_loss: 3.2894\n",
      "Epoch 40/50\n",
      "81/81 [==============================] - 0s 160us/step - loss: 3.3440 - val_loss: 3.0901\n",
      "Epoch 41/50\n",
      "81/81 [==============================] - 0s 145us/step - loss: 3.1062 - val_loss: 2.9019\n",
      "Epoch 42/50\n",
      "81/81 [==============================] - 0s 88us/step - loss: 2.9812 - val_loss: 2.7240\n",
      "Epoch 43/50\n",
      "81/81 [==============================] - 0s 118us/step - loss: 2.8371 - val_loss: 2.5544\n",
      "Epoch 44/50\n",
      "81/81 [==============================] - 0s 106us/step - loss: 2.7081 - val_loss: 2.3959\n",
      "Epoch 45/50\n",
      "81/81 [==============================] - 0s 88us/step - loss: 2.4616 - val_loss: 2.2451\n",
      "Epoch 46/50\n",
      "81/81 [==============================] - 0s 85us/step - loss: 2.3372 - val_loss: 2.1046\n",
      "Epoch 47/50\n",
      "81/81 [==============================] - 0s 95us/step - loss: 2.2678 - val_loss: 1.9722\n",
      "Epoch 48/50\n",
      "81/81 [==============================] - 0s 90us/step - loss: 2.1175 - val_loss: 1.8477\n",
      "Epoch 49/50\n",
      "81/81 [==============================] - 0s 88us/step - loss: 1.9230 - val_loss: 1.7309\n",
      "Epoch 50/50\n",
      "81/81 [==============================] - 0s 106us/step - loss: 1.9634 - val_loss: 1.6212\n"
     ]
    }
   ],
   "source": [
    "model = models.Sequential()\n",
    "# Input - Layer\n",
    "model.add(layers.Dense(50, activation = \"sigmoid\", input_shape=(1, )))\n",
    "# Hidden - Layers\n",
    "model.add(layers.Dropout(0.3, noise_shape=None, seed=None))\n",
    "model.add(layers.Dense(50, activation = \"sigmoid\"))\n",
    "model.add(layers.Dropout(0.2, noise_shape=None, seed=None))\n",
    "model.add(layers.Dense(50, activation = \"sigmoid\"))\n",
    "# Output- Layer\n",
    "model.add(layers.Dense(1, activation = \"linear\"))\n",
    "model.summary()\n",
    "# compiling the model\n",
    "model.compile(\n",
    " optimizer = \"adam\",\n",
    " loss = \"mean_squared_error\"\n",
    ")\n",
    "\n",
    "results = model.fit(\n",
    " train_x, train_y,\n",
    " epochs= 50,\n",
    " batch_size = 200,\n",
    " validation_data = (test_x, test_y)\n",
    ")\n",
    "a=model._make_predict_function()\n",
    "#print(\"Test-Accuracy:\", np.mean(results.history[\"val_acc\"]))"
>>>>>>> parent of 6cd3e6b... Update Research.ipynb
   ]
  },
  {
   "cell_type": "code",
<<<<<<< HEAD
   "execution_count": 18,
   "metadata": {},
   "outputs": [],
   "source": [
    "# sat1=np.arange(1034,1137.3,0.02)\n",
    "# sat2=np.arange(1089.95,1232,0.02)\n",
    "# sat3=np.arange(1242,1373.85,0.02)\n",
    "# sat4=np.arange(1329.9,1450,0.02)\n",
    "# gpa=np.arange(2,4,0.01)"
=======
   "execution_count": 104,
   "metadata": {},
   "outputs": [],
   "source": [
    "a=[400,1232,1300,2321]\n",
    "ynew = model.predict(a)"
   ]
  },
  {
   "cell_type": "code",
<<<<<<< HEAD
=======
   "execution_count": 104,
   "metadata": {},
   "outputs": [],
   "source": [
    "a=[400,1232,1300,2321]\n",
    "ynew = model.predict(a)"
   ]
  },
  {
   "cell_type": "code",
>>>>>>> parent of 6cd3e6b... Update Research.ipynb
   "execution_count": 105,
   "metadata": {},
   "outputs": [
    {
     "data": {
      "text/plain": [
       "array([[2.0033643],\n",
       "       [2.00337  ],\n",
       "       [2.00337  ],\n",
       "       [2.00337  ]], dtype=float32)"
      ]
     },
     "execution_count": 105,
     "metadata": {},
     "output_type": "execute_result"
    }
   ],
   "source": [
    "ynew"
<<<<<<< HEAD
>>>>>>> parent of 6cd3e6b... Update Research.ipynb
=======
>>>>>>> parent of 6cd3e6b... Update Research.ipynb
   ]
  },
  {
   "cell_type": "code",
   "execution_count": null,
   "metadata": {},
   "outputs": [],
   "source": []
  }
 ],
 "metadata": {
  "kernelspec": {
   "display_name": "Python 3",
   "language": "python",
   "name": "python3"
  },
  "language_info": {
   "codemirror_mode": {
    "name": "ipython",
    "version": 3
   },
   "file_extension": ".py",
   "mimetype": "text/x-python",
   "name": "python",
   "nbconvert_exporter": "python",
   "pygments_lexer": "ipython3",
   "version": "3.6.6"
  }
 },
 "nbformat": 4,
 "nbformat_minor": 2
}
