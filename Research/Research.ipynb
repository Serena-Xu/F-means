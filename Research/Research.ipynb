{
 "cells": [
  {
   "cell_type": "code",
   "execution_count": 4,
   "metadata": {},
   "outputs": [
    {
     "data": {
      "text/plain": [
       "2.8781833186895414"
      ]
     },
     "execution_count": 4,
     "metadata": {},
     "output_type": "execute_result"
    }
   ],
   "source": [
    "import pandas as pd\n",
    "import numpy as np\n",
    "import matplotlib.pyplot as plt\n",
    "from sklearn.cluster import KMeans\n",
    "import skfuzzy as fuzz\n",
    "from keras.utils import to_categorical\n",
    "from keras import models\n",
    "from keras import layers\n",
    "from keras.datasets import imdb\n",
    "from skfuzzy import control as ctrl\n",
    "from numpy import array\n",
    "\n",
    "df1=pd.read_excel('SAT_GPA.xls')\n",
    "df1=df1[['univ_GPA','SAT']]\n",
    "#plt.scatter(df1['SAT'],df1['univ_GPA'])\n",
    "\n",
    "\n",
    "kmeans = KMeans(n_clusters=2,init='k-means++',max_iter=300, tol=0.0001).fit(df1)\n",
    "classier=kmeans.labels_\n",
    "classier\n",
    "\n",
    "kmeans.cluster_centers_\n",
    "\n",
    "# red=[]\n",
    "# green=[]\n",
    "# redy=[]\n",
    "# greeny=[]\n",
    "# redcount=0\n",
    "# greencount=0\n",
    "# for i in range(len(df1)):\n",
    "#     if classier[i]==0:\n",
    "#         plt.scatter(df1['SAT'][i],df1['univ_GPA'][i],color='red')\n",
    "#         red.append(df1['SAT'][i])\n",
    "#         redy.append(df1['univ_GPA'][i])\n",
    "#         redcount+=1\n",
    "#     else:\n",
    "#         plt.scatter(df1['SAT'][i],df1['univ_GPA'][i],color='green') \n",
    "#         green.append(df1['SAT'][i])\n",
    "#         greeny.append(df1['univ_GPA'][i])\n",
    "#         greencount+=1\n",
    "# #plt.xlabel('SAT')\n",
    "# #plt.ylabel('University GPA')\n",
    "\n",
    "\n",
    "\n",
    "sat=ctrl.Antecedent(np.arange(1034,1232,0.01),'sat')\n",
    "gpa=ctrl.Consequent(np.arange(2,4,0.01),'gpa')\n",
    "\n",
    "\n",
    "#fuzzy\n",
    "sat['low']=fuzz.trimf(sat.universe,[1034,1089.9,1137.3])\n",
    "sat['high']=fuzz.trimf(sat.universe,[1089.9,1137.3,1232])\n",
    "\n",
    "gpa['low']=fuzz.trimf(gpa.universe,[2.08,2.74,2.95])\n",
    "gpa['high']=fuzz.trimf(gpa.universe,[2.57,2.95,3.71])\n",
    "\n",
    "\n",
    "rule1=ctrl.Rule(sat['low'],gpa['low'])\n",
    "rule2=ctrl.Rule(sat['low'],gpa['high'])\n",
    "rule3=ctrl.Rule(sat['high'],gpa['low'])\n",
    "rule4=ctrl.Rule(sat['high'],gpa['high'])\n",
    "\n",
    "gpa_ctrl=ctrl.ControlSystem([rule1,rule2,rule3,rule4])\n",
    "gpa=ctrl.ControlSystemSimulation(gpa_ctrl)\n",
    "\n",
    "gpa.input['sat']=1137\n",
    "gpa.compute()\n",
    "gpa.output['gpa']"
   ]
  },
  {
   "cell_type": "code",
   "execution_count": 5,
   "metadata": {},
   "outputs": [
    {
     "name": "stdout",
     "output_type": "stream",
     "text": [
      "2.89 3.52\n",
      "2.89 2.91\n",
      "2.88 2.4\n",
      "2.89 3.47\n",
      "2.88 3.47\n",
      "2.89 2.37\n",
      "2.88 2.4\n",
      "2.88 2.24\n",
      "2.88 3.02\n",
      "2.89 3.32\n",
      "2.89 3.59\n",
      "2.88 2.54\n",
      "2.88 3.19\n",
      "2.89 3.71\n",
      "2.89 3.58\n",
      "2.89 3.4\n",
      "2.89 3.73\n",
      "2.89 3.49\n",
      "2.89 2.25\n",
      "2.89 2.37\n",
      "2.88 3.29\n",
      "2.88 3.19\n",
      "2.89 3.28\n",
      "2.88 3.37\n",
      "2.89 3.61\n",
      "2.89 3.81\n",
      "2.88 2.4\n",
      "2.89 2.21\n",
      "2.89 3.58\n",
      "2.89 3.51\n",
      "2.89 3.62\n",
      "2.89 3.6\n",
      "2.89 3.65\n",
      "2.89 3.76\n",
      "2.89 2.27\n",
      "2.89 2.35\n",
      "2.89 3.17\n",
      "2.89 3.47\n",
      "2.88 3.0\n",
      "2.88 2.74\n",
      "2.89 3.37\n",
      "2.89 3.54\n",
      "2.88 3.28\n",
      "2.89 3.39\n",
      "2.89 3.28\n",
      "2.88 3.19\n",
      "2.89 2.52\n",
      "2.88 3.08\n",
      "2.89 3.01\n",
      "2.89 3.42\n",
      "2.89 3.6\n",
      "2.88 2.4\n",
      "2.88 2.83\n",
      "2.88 2.38\n",
      "2.88 3.21\n",
      "2.88 2.24\n",
      "2.89 3.4\n",
      "2.88 3.07\n",
      "2.89 3.52\n",
      "2.88 3.47\n",
      "2.88 3.08\n",
      "2.89 3.38\n",
      "2.89 3.41\n",
      "2.89 3.64\n",
      "2.89 3.71\n",
      "2.89 3.01\n",
      "2.89 3.37\n",
      "2.88 2.34\n",
      "2.89 3.29\n",
      "2.89 3.4\n",
      "2.89 3.38\n",
      "2.89 3.28\n",
      "2.89 3.31\n",
      "2.89 3.42\n",
      "2.89 3.39\n",
      "2.89 3.51\n",
      "2.88 3.17\n",
      "2.89 3.2\n",
      "2.89 3.41\n",
      "2.89 3.29\n",
      "2.89 3.17\n",
      "2.88 3.12\n",
      "2.89 3.71\n",
      "2.89 3.5\n",
      "2.89 3.34\n",
      "2.89 3.48\n",
      "2.89 3.44\n",
      "2.88 3.59\n",
      "2.89 3.28\n",
      "2.88 3.0\n",
      "2.89 3.42\n",
      "2.89 3.41\n",
      "2.89 3.49\n",
      "2.88 3.28\n",
      "2.89 3.17\n",
      "2.89 3.24\n",
      "2.88 2.34\n",
      "2.89 3.28\n",
      "2.89 2.29\n",
      "2.89 2.08\n",
      "2.89 3.64\n",
      "2.89 3.42\n",
      "2.89 3.25\n",
      "2.88 2.76\n",
      "2.89 3.41\n"
     ]
    }
   ],
   "source": [
    "for i in range(len(df1)):\n",
    "    gpa.input['sat']=df1['SAT'][i]+0.01\n",
    "    gpa.compute()\n",
    "    result=gpa.output['gpa']\n",
    "    print(str(round(result, 2)),df1['univ_GPA'][i])\n",
    "    "
   ]
  },
  {
   "cell_type": "code",
   "execution_count": 65,
   "metadata": {},
   "outputs": [
    {
     "ename": "ValueError",
     "evalue": "min() arg is an empty sequence",
     "output_type": "error",
     "traceback": [
      "\u001b[0;31m---------------------------------------------------------------------------\u001b[0m",
      "\u001b[0;31mValueError\u001b[0m                                Traceback (most recent call last)",
      "\u001b[0;32m<ipython-input-65-4df232394636>\u001b[0m in \u001b[0;36m<module>\u001b[0;34m\u001b[0m\n\u001b[0;32m----> 1\u001b[0;31m \u001b[0mmin\u001b[0m\u001b[0;34m(\u001b[0m\u001b[0ms\u001b[0m\u001b[0;34m)\u001b[0m\u001b[0;34m\u001b[0m\u001b[0m\n\u001b[0m",
      "\u001b[0;31mValueError\u001b[0m: min() arg is an empty sequence"
     ]
    }
   ],
   "source": [
    "min(s)"
   ]
  },
  {
   "cell_type": "code",
   "execution_count": 44,
   "metadata": {},
   "outputs": [
    {
     "data": {
      "text/plain": [
       "2.8929018327005407"
      ]
     },
     "execution_count": 44,
     "metadata": {},
     "output_type": "execute_result"
    }
   ],
   "source": [
    "max(s)"
   ]
  },
  {
   "cell_type": "code",
   "execution_count": null,
   "metadata": {},
   "outputs": [],
   "source": []
  },
  {
   "cell_type": "markdown",
   "metadata": {},
   "source": [
    "#neural network"
   ]
  },
  {
   "cell_type": "code",
   "execution_count": 189,
   "metadata": {},
   "outputs": [],
   "source": [
    "# data=df1['SAT']\n",
    "# target=df1['univ_GPA']"
   ]
  },
  {
   "cell_type": "code",
   "execution_count": 190,
   "metadata": {},
   "outputs": [],
   "source": [
    "# test_x = data[81:]\n",
    "# test_y = target[81:]\n",
    "# train_x = data[:81]\n",
    "# train_y = target[:81]"
   ]
  },
  {
   "cell_type": "code",
   "execution_count": 11,
   "metadata": {},
   "outputs": [],
   "source": [
    "# model = models.Sequential()\n",
    "# # Input - Layer\n",
    "# model.add(layers.Dense(50, activation = \"relu\", input_shape=(1, )))\n",
    "# # Hidden - Layers\n",
    "# model.add(layers.Dropout(0.3, noise_shape=None, seed=None))\n",
    "# model.add(layers.Dense(50, activation = \"relu\"))\n",
    "# model.add(layers.Dropout(0.2, noise_shape=None, seed=None))\n",
    "# model.add(layers.Dense(50, activation = \"relu\"))\n",
    "# # Output- Layer\n",
    "# model.add(layers.Dense(1, activation = \"linear\"))\n",
    "# model.summary()\n",
    "# # compiling the model\n",
    "# model.compile(\n",
    "#  optimizer = \"adam\",\n",
    "#  loss = \"mean_squared_error\"\n",
    "# )\n",
    "\n",
    "# results = model.fit(\n",
    "#  train_x, train_y,\n",
    "#  epochs= 2000,\n",
    "#  batch_size = 200,\n",
    "#  validation_data = (test_x, test_y)\n",
    "# )\n",
    "# a=model._make_predict_function()\n",
    "# #print(\"Test-Accuracy:\", np.mean(results.history[\"val_acc\"]))"
   ]
  },
  {
   "cell_type": "code",
   "execution_count": 12,
   "metadata": {},
   "outputs": [],
   "source": [
    "# Xnew = [[1232,1070,1086,1287,1130,1333,1364]]\n",
    "# ynew = model.predict(Xnew)\n",
    "# print(ynew)"
   ]
  },
  {
   "cell_type": "code",
   "execution_count": 4,
   "metadata": {},
   "outputs": [],
   "source": [
    "# data=pd.read_csv('carnegie_mellon.csv',header=None)"
   ]
  },
  {
   "cell_type": "code",
   "execution_count": 5,
   "metadata": {},
   "outputs": [],
   "source": [
    "# gpa=data.iloc[:,0]\n",
    "# sat=data.iloc[:,1]\n",
    "# results=data.iloc[:,2]"
   ]
  },
  {
   "cell_type": "code",
   "execution_count": 13,
   "metadata": {},
   "outputs": [],
   "source": [
    "# fig, ax = plt.subplots()\n",
    "# for i in range(len(gpa)):\n",
    "#     if results[i]==0:\n",
    "#         plt.scatter(sat[i],gpa[i],c='r')\n",
    "#     else:\n",
    "#         plt.scatter(sat[i],gpa[i],c='g')\n",
    "# ax.set_xlabel(\"GPA\")\n",
    "# ax.set_ylabel(\"SAT\")\n",
    "# plt.show()  "
   ]
  },
  {
   "cell_type": "code",
   "execution_count": 7,
   "metadata": {},
   "outputs": [],
   "source": [
    "# df=data.iloc[:,0:2]"
   ]
  },
  {
   "cell_type": "code",
   "execution_count": 14,
   "metadata": {},
   "outputs": [],
   "source": [
    "# kmeans = KMeans(n_clusters=2,init='k-means++',max_iter=500, tol=0.0001).fit(df)\n",
    "# classier=kmeans.labels_\n",
    "# classier"
   ]
  },
  {
   "cell_type": "code",
   "execution_count": 15,
   "metadata": {},
   "outputs": [],
   "source": [
    "# kmeans.cluster_centers_"
   ]
  },
  {
   "cell_type": "code",
   "execution_count": 17,
   "metadata": {},
   "outputs": [],
   "source": [
    "# red=[]\n",
    "# green=[]\n",
    "# redy=[]\n",
    "# greeny=[]\n",
    "# redcount=0\n",
    "# greencount=0\n",
    "# for i in range(len(gpa)):\n",
    "#     if classier[i]==0:\n",
    "#         plt.scatter(sat[i],gpa[i],color='red')\n",
    "#         red.append(sat[i])\n",
    "#         redy.append(gpa[i])\n",
    "#         redcount+=1\n",
    "#     else:\n",
    "#         plt.scatter(sat[i],gpa[i],color='green') \n",
    "#         green.append(sat[i])\n",
    "#         greeny.append(gpa[i])\n",
    "#         greencount+=1\n",
    "# plt.xlabel('SAT')\n",
    "# plt.ylabel('University GPA')\n",
    "# plt.show()"
   ]
  },
  {
   "cell_type": "code",
   "execution_count": 18,
   "metadata": {},
   "outputs": [],
   "source": [
    "# sat1=np.arange(1034,1137.3,0.02)\n",
    "# sat2=np.arange(1089.95,1232,0.02)\n",
    "# sat3=np.arange(1242,1373.85,0.02)\n",
    "# sat4=np.arange(1329.9,1450,0.02)\n",
    "# gpa=np.arange(2,4,0.01)"
   ]
  },
  {
   "cell_type": "code",
   "execution_count": null,
   "metadata": {},
   "outputs": [],
   "source": []
  }
 ],
 "metadata": {
  "kernelspec": {
   "display_name": "Python 3",
   "language": "python",
   "name": "python3"
  },
  "language_info": {
   "codemirror_mode": {
    "name": "ipython",
    "version": 3
   },
   "file_extension": ".py",
   "mimetype": "text/x-python",
   "name": "python",
   "nbconvert_exporter": "python",
   "pygments_lexer": "ipython3",
   "version": "3.6.6"
  }
 },
 "nbformat": 4,
 "nbformat_minor": 2
}
